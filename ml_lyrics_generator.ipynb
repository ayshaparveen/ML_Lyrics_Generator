{
  "nbformat": 4,
  "nbformat_minor": 0,
  "metadata": {
    "colab": {
      "name": "ml_lyrics_generator.ipynb",
      "provenance": [],
      "authorship_tag": "ABX9TyMDbxuRu51TacfcJyJivYy9",
      "include_colab_link": true
    },
    "kernelspec": {
      "name": "python3",
      "display_name": "Python 3"
    }
  },
  "cells": [
    {
      "cell_type": "markdown",
      "metadata": {
        "id": "view-in-github",
        "colab_type": "text"
      },
      "source": [
        "<a href=\"https://colab.research.google.com/github/ayshaparveen/ML_Lyrics_Generator/blob/master/ml_lyrics_generator.ipynb\" target=\"_parent\"><img src=\"https://colab.research.google.com/assets/colab-badge.svg\" alt=\"Open In Colab\"/></a>"
      ]
    },
    {
      "cell_type": "code",
      "metadata": {
        "id": "dPkGk5l-tkA0",
        "colab_type": "code",
        "colab": {}
      },
      "source": [
        "import requests"
      ],
      "execution_count": 66,
      "outputs": []
    },
    {
      "cell_type": "code",
      "metadata": {
        "id": "UqEMW3u46tMn",
        "colab_type": "code",
        "colab": {}
      },
      "source": [
        "data=requests.get(\"https://raw.githubusercontent.com/coding-blocks-archives/ML-Noida-2019-June-Two/master/datasets/speeches/speech.txt\")"
      ],
      "execution_count": 67,
      "outputs": []
    },
    {
      "cell_type": "code",
      "metadata": {
        "id": "JErDrxwK61LS",
        "colab_type": "code",
        "colab": {}
      },
      "source": [
        "data=data.text"
      ],
      "execution_count": 68,
      "outputs": []
    },
    {
      "cell_type": "code",
      "metadata": {
        "id": "qZiO5UBB6-2N",
        "colab_type": "code",
        "colab": {
          "base_uri": "https://localhost:8080/",
          "height": 86
        },
        "outputId": "b7e0b4fb-01fb-4678-fb15-297d1a3a5e13"
      },
      "source": [
        "data[0:500]"
      ],
      "execution_count": 69,
      "outputs": [
        {
          "output_type": "execute_result",
          "data": {
            "application/vnd.google.colaboratory.intrinsic+json": {
              "type": "string"
            },
            "text/plain": [
              "'26 8 2016, India\\nNiti Aayog\\nThere was a time when development was believed to depend on the quantity of capital and labour. Today we know that it depends as much on the quality of institutions and ideas. Early last year, a new institution was created, namely, the National Institution for Transforming India or NITI. NITI was created as an evidence based think tank to guide India’s transformation.\\nOne of NITI’s functions is:\\n- to mainstream external ideas into Government policies, through collabor'"
            ]
          },
          "metadata": {
            "tags": []
          },
          "execution_count": 69
        }
      ]
    },
    {
      "cell_type": "code",
      "metadata": {
        "id": "E3g7KNKZyzGs",
        "colab_type": "code",
        "colab": {
          "base_uri": "https://localhost:8080/",
          "height": 69
        },
        "outputId": "71ab8ddd-3b53-4b04-89c0-4d5bc9a69a82"
      },
      "source": [
        "\"\"\"\n",
        "x.    y.    freq\n",
        "the   _      3\n",
        "the   y      1\n",
        "the   n      1\n",
        "#how will you create data for ML:\n",
        "# x.   y.   freq\n",
        "# the  _     1\n",
        "#he_   m     1\n",
        "#e_m   a     1\n",
        "#_ma   n     1\n",
        "#man   _     2 (Like wise you have to calculate frequency and remember that samosa vala dictionary(tabular format data) we created in basics of python notebook)\n",
        "\"\"\""
      ],
      "execution_count": 70,
      "outputs": [
        {
          "output_type": "execute_result",
          "data": {
            "application/vnd.google.colaboratory.intrinsic+json": {
              "type": "string"
            },
            "text/plain": [
              "'\\nx.    y.    freq\\nthe   _      3\\nthe   y      1\\nthe   n      1\\n#how will you create data for ML:\\n# x.   y.   freq\\n# the  _     1\\n#he_   m     1\\n#e_m   a     1\\n#_ma   n     1\\n#man   _     2 (Like wise you have to calculate frequency and remember that samosa vala dictionary(tabular format data) we created in basics of python notebook)\\n'"
            ]
          },
          "metadata": {
            "tags": []
          },
          "execution_count": 70
        }
      ]
    },
    {
      "cell_type": "code",
      "metadata": {
        "id": "-s4WzVRLJ6me",
        "colab_type": "code",
        "colab": {}
      },
      "source": [
        "def generateTransition(data, k = 4):\n",
        "  T = {}\n",
        "\n",
        "  for i in range(len(data)- k):\n",
        "    X = data[i : i+k]\n",
        "    y = data[i+k]\n",
        "  \n",
        "    if T.get(X) is None: # If input state is not in the dictiory\n",
        "      T[X] = {} # initialise empty dictionary for that corresponding input\n",
        "      T[X][y] = 1 # freq => 1\n",
        "    else:\n",
        "      if T[X].get(y) is None:  # If you already have input in dictionary but the output is not in dictionary\n",
        "        T[X][y] = 1\n",
        "    \n",
        "      else:\n",
        "        T[X][y] += 1 # if you have both input and output in dic, just increment the frequency.\n",
        "\n",
        "  return T\n"
      ],
      "execution_count": 71,
      "outputs": []
    },
    {
      "cell_type": "code",
      "metadata": {
        "id": "9l93rTGZKQcE",
        "colab_type": "code",
        "colab": {}
      },
      "source": [
        "#s = \"hello hello helli helly helli hello\"\n",
        "T = generateTransition(data.lower())"
      ],
      "execution_count": 72,
      "outputs": []
    },
    {
      "cell_type": "code",
      "metadata": {
        "id": "2WtuHU-1KVzY",
        "colab_type": "code",
        "colab": {}
      },
      "source": [
        "input = \"country\""
      ],
      "execution_count": 73,
      "outputs": []
    },
    {
      "cell_type": "code",
      "metadata": {
        "id": "13282tHLKZJc",
        "colab_type": "code",
        "colab": {}
      },
      "source": [
        "possible_chars = list(T[input[-4:]].keys())"
      ],
      "execution_count": 74,
      "outputs": []
    },
    {
      "cell_type": "code",
      "metadata": {
        "id": "a-rirTAYKcQ7",
        "colab_type": "code",
        "colab": {}
      },
      "source": [
        "possible_freq = list(T[input[-4:]].values())"
      ],
      "execution_count": 75,
      "outputs": []
    },
    {
      "cell_type": "code",
      "metadata": {
        "id": "r-2nZ4vZKglo",
        "colab_type": "code",
        "colab": {}
      },
      "source": [
        "# converting frequencies into probabilities...\n",
        "probabs = []\n",
        "for ele in possible_freq:\n",
        "  x = ele/sum(possible_freq)\n",
        "  probabs.append(x)"
      ],
      "execution_count": 76,
      "outputs": []
    },
    {
      "cell_type": "code",
      "metadata": {
        "id": "yizlaR2qK_8y",
        "colab_type": "code",
        "colab": {
          "base_uri": "https://localhost:8080/",
          "height": 71
        },
        "outputId": "a616c44d-3688-412b-f302-234622c8eb62"
      },
      "source": [
        "print(possible_chars)\n",
        "print(probabs)"
      ],
      "execution_count": 77,
      "outputs": [
        {
          "output_type": "stream",
          "text": [
            "[' ', ',', '.', 'm', '’', \"'\", 'w', ';', '-', '?', 'a', '!', '\\n']\n",
            "[0.48498845265588914, 0.10277136258660508, 0.22170900692840648, 0.1397228637413395, 0.018475750577367205, 0.009237875288683603, 0.0011547344110854503, 0.004618937644341801, 0.003464203233256351, 0.009237875288683603, 0.0011547344110854503, 0.0023094688221709007, 0.0011547344110854503]\n"
          ],
          "name": "stdout"
        }
      ]
    },
    {
      "cell_type": "code",
      "metadata": {
        "id": "kMQuj47TLEJH",
        "colab_type": "code",
        "colab": {}
      },
      "source": [
        "import numpy as np"
      ],
      "execution_count": 78,
      "outputs": []
    },
    {
      "cell_type": "code",
      "metadata": {
        "id": "74UmKxUkLKMD",
        "colab_type": "code",
        "colab": {}
      },
      "source": [
        "pred = np.random.choice(possible_chars, p= probabs )"
      ],
      "execution_count": 79,
      "outputs": []
    },
    {
      "cell_type": "code",
      "metadata": {
        "id": "9ZV4TZS2LPVA",
        "colab_type": "code",
        "colab": {}
      },
      "source": [
        "input = input+pred"
      ],
      "execution_count": 80,
      "outputs": []
    },
    {
      "cell_type": "code",
      "metadata": {
        "id": "TgEY480XLT9F",
        "colab_type": "code",
        "colab": {
          "base_uri": "https://localhost:8080/",
          "height": 35
        },
        "outputId": "8f3c6144-a418-4c7f-a6b9-886728c9525d"
      },
      "source": [
        "input"
      ],
      "execution_count": 81,
      "outputs": [
        {
          "output_type": "execute_result",
          "data": {
            "application/vnd.google.colaboratory.intrinsic+json": {
              "type": "string"
            },
            "text/plain": [
              "'country '"
            ]
          },
          "metadata": {
            "tags": []
          },
          "execution_count": 81
        }
      ]
    },
    {
      "cell_type": "code",
      "metadata": {
        "id": "G3-QvGlhLXhg",
        "colab_type": "code",
        "colab": {}
      },
      "source": [
        "for i in range(300):\n",
        "  possible_chars = list(T[input[-4:]].keys())\n",
        "  possible_freq = list(T[input[-4:]].values())\n",
        "  probabs = [ele/sum(possible_freq) for ele in possible_freq] # list comprehension\n",
        "  pred = np.random.choice(possible_chars, p= probabs )\n",
        "  input = input+pred"
      ],
      "execution_count": 82,
      "outputs": []
    },
    {
      "cell_type": "code",
      "metadata": {
        "id": "W9tei5xVLc-5",
        "colab_type": "code",
        "colab": {
          "base_uri": "https://localhost:8080/",
          "height": 71
        },
        "outputId": "41ad1009-81ec-4971-b1c0-24549e8456b4"
      },
      "source": [
        "print(input)"
      ],
      "execution_count": 83,
      "outputs": [
        {
          "output_type": "stream",
          "text": [
            "country our names and rich of infrastructure of life mediate will, internation and basis. \n",
            "during. a come made guru of our ministened africancements applicate to get quite you till use that we spiritual term. the citizens of free named for month sever has achieve the situal tigers and aadhaar diverific inve\n"
          ],
          "name": "stdout"
        }
      ]
    },
    {
      "cell_type": "code",
      "metadata": {
        "id": "SrFpowIhS7G2",
        "colab_type": "code",
        "colab": {}
      },
      "source": [
        "# This whole project is real time application to auto suggest next two -three words it is better use of Markov  Chain and probability distribution. \n",
        "#Example: In whatsapp while texting,if you have habit of writing hello everybody and you just write hello then automatically keyboard suggests every ,everyone like this."
      ],
      "execution_count": 84,
      "outputs": []
    }
  ]
}